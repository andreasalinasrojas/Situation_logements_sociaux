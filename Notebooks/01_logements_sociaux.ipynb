{
 "cells": [
  {
   "cell_type": "code",
   "execution_count": 74,
   "id": "55457636",
   "metadata": {},
   "outputs": [],
   "source": [
    "import pandas as pd\n",
    "import matplotlib.pyplot as plt"
   ]
  },
  {
   "cell_type": "code",
   "execution_count": 75,
   "id": "feca43da",
   "metadata": {},
   "outputs": [
    {
     "name": "stdout",
     "output_type": "stream",
     "text": [
      "  Code Commune   Département               Région  code_region  \\\n",
      "0        28040  Eure-et-Loir  CENTRE-VAL DE LOIRE         24.0   \n",
      "1        28070  Eure-et-Loir  CENTRE-VAL DE LOIRE         24.0   \n",
      "2        28085  Eure-et-Loir  CENTRE-VAL DE LOIRE         24.0   \n",
      "3        28090  Eure-et-Loir  CENTRE-VAL DE LOIRE         24.0   \n",
      "4        28227  Eure-et-Loir  CENTRE-VAL DE LOIRE         24.0   \n",
      "\n",
      "   Taux de logements sociaux (%)  \\\n",
      "0                            0.0   \n",
      "1                           10.0   \n",
      "2                           31.0   \n",
      "3                            0.0   \n",
      "4                           16.0   \n",
      "\n",
      "                                                geom  \\\n",
      "0  {\"coordinates\": [[[[1.209956998, 48.520591349]...   \n",
      "1  {\"coordinates\": [[[[1.495640798, 48.473915202]...   \n",
      "2  {\"coordinates\": [[[[1.515737493, 48.427185829]...   \n",
      "3  {\"coordinates\": [[[[1.015929514, 48.675554898]...   \n",
      "4  {\"coordinates\": [[[[1.583035441, 48.604331377]...   \n",
      "\n",
      "                    centroid code_departement    Nom Commune  \\\n",
      "0  48.494447753, 1.214067445               28   Billancelles   \n",
      "1  48.467114767, 1.510562449               28       Champhol   \n",
      "2  48.447093224, 1.505663165               28       Chartres   \n",
      "3   48.65947831, 1.018247538               28  Les Châtelets   \n",
      "4  48.584090275, 1.584958009               28      Maintenon   \n",
      "\n",
      "                        epci    code_epci  \n",
      "0  CC entre Beauce et Perche  200058360.0  \n",
      "1      CA Chartres Métropole  200033181.0  \n",
      "2      CA Chartres Métropole  200033181.0  \n",
      "3  CA Agglo du Pays de Dreux  200040277.0  \n",
      "4      CA Chartres Métropole  200033181.0  \n"
     ]
    }
   ],
   "source": [
    "# Chemin du fichier csv\n",
    "chemin_fichier = \"E://Projet_SQL//logem_soc_2021_brut.csv\"\n",
    "\n",
    "df = pd.read_csv(chemin_fichier, sep=';', encoding='utf-8')  # Ou iso-8859-1 si ça coince\n",
    "print(df.head(5))"
   ]
  },
  {
   "cell_type": "code",
   "execution_count": 76,
   "id": "4d9cc991",
   "metadata": {},
   "outputs": [
    {
     "data": {
      "text/plain": [
       "(35228, 11)"
      ]
     },
     "execution_count": 76,
     "metadata": {},
     "output_type": "execute_result"
    }
   ],
   "source": [
    "df.shape"
   ]
  },
  {
   "cell_type": "code",
   "execution_count": 77,
   "id": "e0f9c44c",
   "metadata": {},
   "outputs": [
    {
     "name": "stdout",
     "output_type": "stream",
     "text": [
      "<class 'pandas.core.frame.DataFrame'>\n",
      "RangeIndex: 35228 entries, 0 to 35227\n",
      "Data columns (total 11 columns):\n",
      " #   Column                         Non-Null Count  Dtype  \n",
      "---  ------                         --------------  -----  \n",
      " 0   Code Commune                   35228 non-null  object \n",
      " 1   Département                    34815 non-null  object \n",
      " 2   Région                         34815 non-null  object \n",
      " 3   code_region                    34815 non-null  float64\n",
      " 4   Taux de logements sociaux (%)  35228 non-null  float64\n",
      " 5   geom                           34802 non-null  object \n",
      " 6   centroid                       34815 non-null  object \n",
      " 7   code_departement               34815 non-null  object \n",
      " 8   Nom Commune                    34815 non-null  object \n",
      " 9   epci                           34811 non-null  object \n",
      " 10  code_epci                      34811 non-null  float64\n",
      "dtypes: float64(3), object(8)\n",
      "memory usage: 3.0+ MB\n"
     ]
    }
   ],
   "source": [
    "df.info()"
   ]
  },
  {
   "cell_type": "code",
   "execution_count": 78,
   "id": "a27b7649",
   "metadata": {},
   "outputs": [
    {
     "data": {
      "text/plain": [
       "Code Commune                       0\n",
       "Département                      413\n",
       "Région                           413\n",
       "code_region                      413\n",
       "Taux de logements sociaux (%)      0\n",
       "geom                             426\n",
       "centroid                         413\n",
       "code_departement                 413\n",
       "Nom Commune                      413\n",
       "epci                             417\n",
       "code_epci                        417\n",
       "dtype: int64"
      ]
     },
     "execution_count": 78,
     "metadata": {},
     "output_type": "execute_result"
    }
   ],
   "source": [
    "df.isnull().sum()"
   ]
  },
  {
   "cell_type": "markdown",
   "id": "60d6ef5b",
   "metadata": {},
   "source": [
    "### Suppression de lignes incomplètes"
   ]
  },
  {
   "cell_type": "code",
   "execution_count": 79,
   "id": "fb2e657b",
   "metadata": {},
   "outputs": [
    {
     "name": "stdout",
     "output_type": "stream",
     "text": [
      "(34798, 11)\n"
     ]
    }
   ],
   "source": [
    "df_clean = df.dropna()\n",
    "print(df_clean.shape)"
   ]
  },
  {
   "cell_type": "code",
   "execution_count": 80,
   "id": "7b6d9cb1",
   "metadata": {},
   "outputs": [
    {
     "data": {
      "text/plain": [
       "Code Commune                     0\n",
       "Département                      0\n",
       "Région                           0\n",
       "code_region                      0\n",
       "Taux de logements sociaux (%)    0\n",
       "geom                             0\n",
       "centroid                         0\n",
       "code_departement                 0\n",
       "Nom Commune                      0\n",
       "epci                             0\n",
       "code_epci                        0\n",
       "dtype: int64"
      ]
     },
     "execution_count": 80,
     "metadata": {},
     "output_type": "execute_result"
    }
   ],
   "source": [
    "df_clean.isnull().sum()"
   ]
  },
  {
   "cell_type": "code",
   "execution_count": 81,
   "id": "4d36d293",
   "metadata": {},
   "outputs": [
    {
     "data": {
      "text/html": [
       "<div>\n",
       "<style scoped>\n",
       "    .dataframe tbody tr th:only-of-type {\n",
       "        vertical-align: middle;\n",
       "    }\n",
       "\n",
       "    .dataframe tbody tr th {\n",
       "        vertical-align: top;\n",
       "    }\n",
       "\n",
       "    .dataframe thead th {\n",
       "        text-align: right;\n",
       "    }\n",
       "</style>\n",
       "<table border=\"1\" class=\"dataframe\">\n",
       "  <thead>\n",
       "    <tr style=\"text-align: right;\">\n",
       "      <th></th>\n",
       "      <th>code_region</th>\n",
       "      <th>Taux de logements sociaux (%)</th>\n",
       "      <th>code_epci</th>\n",
       "    </tr>\n",
       "  </thead>\n",
       "  <tbody>\n",
       "    <tr>\n",
       "      <th>count</th>\n",
       "      <td>34798.000000</td>\n",
       "      <td>34798.000000</td>\n",
       "      <td>3.479800e+04</td>\n",
       "    </tr>\n",
       "    <tr>\n",
       "      <th>mean</th>\n",
       "      <td>52.453417</td>\n",
       "      <td>3.988994</td>\n",
       "      <td>2.125194e+08</td>\n",
       "    </tr>\n",
       "    <tr>\n",
       "      <th>std</th>\n",
       "      <td>24.193964</td>\n",
       "      <td>7.361732</td>\n",
       "      <td>2.002169e+07</td>\n",
       "    </tr>\n",
       "    <tr>\n",
       "      <th>min</th>\n",
       "      <td>11.000000</td>\n",
       "      <td>0.000000</td>\n",
       "      <td>2.000002e+08</td>\n",
       "    </tr>\n",
       "    <tr>\n",
       "      <th>25%</th>\n",
       "      <td>28.000000</td>\n",
       "      <td>0.000000</td>\n",
       "      <td>2.000660e+08</td>\n",
       "    </tr>\n",
       "    <tr>\n",
       "      <th>50%</th>\n",
       "      <td>44.000000</td>\n",
       "      <td>0.000000</td>\n",
       "      <td>2.000697e+08</td>\n",
       "    </tr>\n",
       "    <tr>\n",
       "      <th>75%</th>\n",
       "      <td>76.000000</td>\n",
       "      <td>5.000000</td>\n",
       "      <td>2.410004e+08</td>\n",
       "    </tr>\n",
       "    <tr>\n",
       "      <th>max</th>\n",
       "      <td>94.000000</td>\n",
       "      <td>157.000000</td>\n",
       "      <td>2.495005e+08</td>\n",
       "    </tr>\n",
       "  </tbody>\n",
       "</table>\n",
       "</div>"
      ],
      "text/plain": [
       "        code_region  Taux de logements sociaux (%)     code_epci\n",
       "count  34798.000000                   34798.000000  3.479800e+04\n",
       "mean      52.453417                       3.988994  2.125194e+08\n",
       "std       24.193964                       7.361732  2.002169e+07\n",
       "min       11.000000                       0.000000  2.000002e+08\n",
       "25%       28.000000                       0.000000  2.000660e+08\n",
       "50%       44.000000                       0.000000  2.000697e+08\n",
       "75%       76.000000                       5.000000  2.410004e+08\n",
       "max       94.000000                     157.000000  2.495005e+08"
      ]
     },
     "execution_count": 81,
     "metadata": {},
     "output_type": "execute_result"
    }
   ],
   "source": [
    "df_clean.describe()"
   ]
  },
  {
   "cell_type": "markdown",
   "id": "e47de864",
   "metadata": {},
   "source": [
    "### **Correction d'une valeur aberrante dans les taux (%) de logements sociaux**\n",
    "\n",
    "- Le .describe(), montre une maximale de **157%** dans la colonne `Taux de logements sociaux (%)`, ce qui est impossible. Le taux ne peut dépasser 100%. \n",
    "- Cette valeur aberrante doit donc être filtrée avant l'analyse.\n"
   ]
  },
  {
   "cell_type": "code",
   "execution_count": 82,
   "id": "9bad7a2b",
   "metadata": {},
   "outputs": [
    {
     "data": {
      "text/html": [
       "<div>\n",
       "<style scoped>\n",
       "    .dataframe tbody tr th:only-of-type {\n",
       "        vertical-align: middle;\n",
       "    }\n",
       "\n",
       "    .dataframe tbody tr th {\n",
       "        vertical-align: top;\n",
       "    }\n",
       "\n",
       "    .dataframe thead th {\n",
       "        text-align: right;\n",
       "    }\n",
       "</style>\n",
       "<table border=\"1\" class=\"dataframe\">\n",
       "  <thead>\n",
       "    <tr style=\"text-align: right;\">\n",
       "      <th></th>\n",
       "      <th>Code Commune</th>\n",
       "      <th>Département</th>\n",
       "      <th>Région</th>\n",
       "      <th>code_region</th>\n",
       "      <th>Taux de logements sociaux (%)</th>\n",
       "      <th>geom</th>\n",
       "      <th>centroid</th>\n",
       "      <th>code_departement</th>\n",
       "      <th>Nom Commune</th>\n",
       "      <th>epci</th>\n",
       "      <th>code_epci</th>\n",
       "    </tr>\n",
       "  </thead>\n",
       "  <tbody>\n",
       "    <tr>\n",
       "      <th>7024</th>\n",
       "      <td>71085</td>\n",
       "      <td>Saône-et-Loire</td>\n",
       "      <td>BOURGOGNE-FRANCHE-COMTÉ</td>\n",
       "      <td>27.0</td>\n",
       "      <td>157.0</td>\n",
       "      <td>{\"coordinates\": [[[[4.649693474, 46.941475689]...</td>\n",
       "      <td>46.930650572, 4.628952666</td>\n",
       "      <td>71</td>\n",
       "      <td>Change</td>\n",
       "      <td>CA Beaune, Côte et Sud - Communauté Beaune-Cha...</td>\n",
       "      <td>200006682.0</td>\n",
       "    </tr>\n",
       "  </tbody>\n",
       "</table>\n",
       "</div>"
      ],
      "text/plain": [
       "     Code Commune     Département                   Région  code_region  \\\n",
       "7024        71085  Saône-et-Loire  BOURGOGNE-FRANCHE-COMTÉ         27.0   \n",
       "\n",
       "      Taux de logements sociaux (%)  \\\n",
       "7024                          157.0   \n",
       "\n",
       "                                                   geom  \\\n",
       "7024  {\"coordinates\": [[[[4.649693474, 46.941475689]...   \n",
       "\n",
       "                       centroid code_departement Nom Commune  \\\n",
       "7024  46.930650572, 4.628952666               71      Change   \n",
       "\n",
       "                                                   epci    code_epci  \n",
       "7024  CA Beaune, Côte et Sud - Communauté Beaune-Cha...  200006682.0  "
      ]
     },
     "execution_count": 82,
     "metadata": {},
     "output_type": "execute_result"
    }
   ],
   "source": [
    "# Identifier où est la valeur aberrante qui est 157\n",
    "df_clean[df_clean['Taux de logements sociaux (%)'] > 100]"
   ]
  },
  {
   "cell_type": "markdown",
   "id": "358ff878",
   "metadata": {},
   "source": [
    "La commune identifiée avec un taux de 157% est Change, (Code Commune 71085). On l'enlèvera du df_clean"
   ]
  },
  {
   "cell_type": "code",
   "execution_count": 83,
   "id": "e4eabffe",
   "metadata": {},
   "outputs": [],
   "source": [
    "# Enlever du df_clean le Code commune '71085'\n",
    "df_clean = df_clean[df_clean['Code Commune'] != '71085']\n"
   ]
  },
  {
   "cell_type": "markdown",
   "id": "f3e0bce1",
   "metadata": {},
   "source": [
    "Remettre à zéro l'index le nouveau df sans lignes vides : df_clean"
   ]
  },
  {
   "cell_type": "code",
   "execution_count": 84,
   "id": "2c720302",
   "metadata": {},
   "outputs": [],
   "source": [
    "df_clean.reset_index(drop=True, inplace=True)"
   ]
  },
  {
   "cell_type": "markdown",
   "id": "60910f54",
   "metadata": {},
   "source": [
    "Vérifier s'il y a des doublons dans le df_clean :"
   ]
  },
  {
   "cell_type": "code",
   "execution_count": 85,
   "id": "35f75076",
   "metadata": {},
   "outputs": [
    {
     "data": {
      "text/plain": [
       "0"
      ]
     },
     "execution_count": 85,
     "metadata": {},
     "output_type": "execute_result"
    }
   ],
   "source": [
    "df_clean.duplicated().sum()"
   ]
  },
  {
   "cell_type": "markdown",
   "id": "d900cd45",
   "metadata": {},
   "source": [
    "Afficher les colonnes pour savoir quelles colonnes on gardera pour le projet :"
   ]
  },
  {
   "cell_type": "code",
   "execution_count": 86,
   "id": "8f8559b6",
   "metadata": {},
   "outputs": [
    {
     "data": {
      "text/plain": [
       "Index(['Code Commune', 'Département', 'Région', 'code_region',\n",
       "       'Taux de logements sociaux (%)', 'geom', 'centroid', 'code_departement',\n",
       "       'Nom Commune', 'epci', 'code_epci'],\n",
       "      dtype='object')"
      ]
     },
     "execution_count": 86,
     "metadata": {},
     "output_type": "execute_result"
    }
   ],
   "source": [
    "df_clean.columns"
   ]
  },
  {
   "cell_type": "markdown",
   "id": "83d6d4d9",
   "metadata": {},
   "source": [
    "Garder uniquement les colonnes inutiles de df_clean"
   ]
  },
  {
   "cell_type": "code",
   "execution_count": 87,
   "id": "3aa823a7",
   "metadata": {},
   "outputs": [],
   "source": [
    "colonnes_utiles = ['Code Commune', 'Nom Commune', 'Département', 'code_departement', 'Région', 'Taux de logements sociaux (%)', 'geom']\n",
    "df_reduit = df_clean[colonnes_utiles]"
   ]
  },
  {
   "cell_type": "code",
   "execution_count": 88,
   "id": "f3ad013a",
   "metadata": {},
   "outputs": [
    {
     "name": "stdout",
     "output_type": "stream",
     "text": [
      "<class 'pandas.core.frame.DataFrame'>\n",
      "RangeIndex: 34797 entries, 0 to 34796\n",
      "Data columns (total 7 columns):\n",
      " #   Column                         Non-Null Count  Dtype  \n",
      "---  ------                         --------------  -----  \n",
      " 0   Code Commune                   34797 non-null  object \n",
      " 1   Nom Commune                    34797 non-null  object \n",
      " 2   Département                    34797 non-null  object \n",
      " 3   code_departement               34797 non-null  object \n",
      " 4   Région                         34797 non-null  object \n",
      " 5   Taux de logements sociaux (%)  34797 non-null  float64\n",
      " 6   geom                           34797 non-null  object \n",
      "dtypes: float64(1), object(6)\n",
      "memory usage: 1.9+ MB\n"
     ]
    }
   ],
   "source": [
    "df_reduit.info()"
   ]
  },
  {
   "cell_type": "code",
   "execution_count": 89,
   "id": "c62ab943",
   "metadata": {},
   "outputs": [
    {
     "data": {
      "text/html": [
       "<div>\n",
       "<style scoped>\n",
       "    .dataframe tbody tr th:only-of-type {\n",
       "        vertical-align: middle;\n",
       "    }\n",
       "\n",
       "    .dataframe tbody tr th {\n",
       "        vertical-align: top;\n",
       "    }\n",
       "\n",
       "    .dataframe thead th {\n",
       "        text-align: right;\n",
       "    }\n",
       "</style>\n",
       "<table border=\"1\" class=\"dataframe\">\n",
       "  <thead>\n",
       "    <tr style=\"text-align: right;\">\n",
       "      <th></th>\n",
       "      <th>Code Commune</th>\n",
       "      <th>Nom Commune</th>\n",
       "      <th>Département</th>\n",
       "      <th>code_departement</th>\n",
       "      <th>Région</th>\n",
       "      <th>Taux de logements sociaux (%)</th>\n",
       "      <th>geom</th>\n",
       "    </tr>\n",
       "  </thead>\n",
       "  <tbody>\n",
       "    <tr>\n",
       "      <th>0</th>\n",
       "      <td>28040</td>\n",
       "      <td>Billancelles</td>\n",
       "      <td>Eure-et-Loir</td>\n",
       "      <td>28</td>\n",
       "      <td>CENTRE-VAL DE LOIRE</td>\n",
       "      <td>0.0</td>\n",
       "      <td>{\"coordinates\": [[[[1.209956998, 48.520591349]...</td>\n",
       "    </tr>\n",
       "    <tr>\n",
       "      <th>1</th>\n",
       "      <td>28070</td>\n",
       "      <td>Champhol</td>\n",
       "      <td>Eure-et-Loir</td>\n",
       "      <td>28</td>\n",
       "      <td>CENTRE-VAL DE LOIRE</td>\n",
       "      <td>10.0</td>\n",
       "      <td>{\"coordinates\": [[[[1.495640798, 48.473915202]...</td>\n",
       "    </tr>\n",
       "    <tr>\n",
       "      <th>2</th>\n",
       "      <td>28085</td>\n",
       "      <td>Chartres</td>\n",
       "      <td>Eure-et-Loir</td>\n",
       "      <td>28</td>\n",
       "      <td>CENTRE-VAL DE LOIRE</td>\n",
       "      <td>31.0</td>\n",
       "      <td>{\"coordinates\": [[[[1.515737493, 48.427185829]...</td>\n",
       "    </tr>\n",
       "    <tr>\n",
       "      <th>3</th>\n",
       "      <td>28090</td>\n",
       "      <td>Les Châtelets</td>\n",
       "      <td>Eure-et-Loir</td>\n",
       "      <td>28</td>\n",
       "      <td>CENTRE-VAL DE LOIRE</td>\n",
       "      <td>0.0</td>\n",
       "      <td>{\"coordinates\": [[[[1.015929514, 48.675554898]...</td>\n",
       "    </tr>\n",
       "    <tr>\n",
       "      <th>4</th>\n",
       "      <td>28227</td>\n",
       "      <td>Maintenon</td>\n",
       "      <td>Eure-et-Loir</td>\n",
       "      <td>28</td>\n",
       "      <td>CENTRE-VAL DE LOIRE</td>\n",
       "      <td>16.0</td>\n",
       "      <td>{\"coordinates\": [[[[1.583035441, 48.604331377]...</td>\n",
       "    </tr>\n",
       "  </tbody>\n",
       "</table>\n",
       "</div>"
      ],
      "text/plain": [
       "  Code Commune    Nom Commune   Département code_departement  \\\n",
       "0        28040   Billancelles  Eure-et-Loir               28   \n",
       "1        28070       Champhol  Eure-et-Loir               28   \n",
       "2        28085       Chartres  Eure-et-Loir               28   \n",
       "3        28090  Les Châtelets  Eure-et-Loir               28   \n",
       "4        28227      Maintenon  Eure-et-Loir               28   \n",
       "\n",
       "                Région  Taux de logements sociaux (%)  \\\n",
       "0  CENTRE-VAL DE LOIRE                            0.0   \n",
       "1  CENTRE-VAL DE LOIRE                           10.0   \n",
       "2  CENTRE-VAL DE LOIRE                           31.0   \n",
       "3  CENTRE-VAL DE LOIRE                            0.0   \n",
       "4  CENTRE-VAL DE LOIRE                           16.0   \n",
       "\n",
       "                                                geom  \n",
       "0  {\"coordinates\": [[[[1.209956998, 48.520591349]...  \n",
       "1  {\"coordinates\": [[[[1.495640798, 48.473915202]...  \n",
       "2  {\"coordinates\": [[[[1.515737493, 48.427185829]...  \n",
       "3  {\"coordinates\": [[[[1.015929514, 48.675554898]...  \n",
       "4  {\"coordinates\": [[[[1.583035441, 48.604331377]...  "
      ]
     },
     "execution_count": 89,
     "metadata": {},
     "output_type": "execute_result"
    }
   ],
   "source": [
    "df_reduit.head(5)"
   ]
  },
  {
   "cell_type": "markdown",
   "id": "530c82cc",
   "metadata": {},
   "source": [
    "Analyse exploratoire"
   ]
  },
  {
   "cell_type": "code",
   "execution_count": 90,
   "id": "7afd7f09",
   "metadata": {},
   "outputs": [
    {
     "data": {
      "text/plain": [
       "3.9845963732505676"
      ]
     },
     "execution_count": 90,
     "metadata": {},
     "output_type": "execute_result"
    }
   ],
   "source": [
    "df_reduit['Taux de logements sociaux (%)'].mean()"
   ]
  },
  {
   "cell_type": "code",
   "execution_count": 91,
   "id": "cc74fc21",
   "metadata": {},
   "outputs": [
    {
     "data": {
      "text/plain": [
       "array([ 0., 10., 31., 16.,  4.,  7.,  6.,  5., 18.,  1., 14.,  9., 11.,\n",
       "        2., 17., 26., 23., 12.,  8.,  3., 13., 22., 30., 20., 15., 42.,\n",
       "       29., 41., 19., 46., 32., 21., 34., 47., 35., 33., 25., 27., 24.,\n",
       "       37., 45., 40., 63., 38., 39., 28., 44., 71., 43., 55., 58., 52.,\n",
       "       56., 69., 54., 36., 53., 59., 48., 50., 49., 94., 68., 62., 57.,\n",
       "       60., 65., 51., 86.])"
      ]
     },
     "execution_count": 91,
     "metadata": {},
     "output_type": "execute_result"
    }
   ],
   "source": [
    "df_reduit['Taux de logements sociaux (%)'].unique()"
   ]
  },
  {
   "cell_type": "code",
   "execution_count": 92,
   "id": "d5867bdf",
   "metadata": {},
   "outputs": [
    {
     "data": {
      "text/plain": [
       "Code Commune                      object\n",
       "Nom Commune                       object\n",
       "Département                       object\n",
       "code_departement                  object\n",
       "Région                            object\n",
       "Taux de logements sociaux (%)    float64\n",
       "geom                              object\n",
       "dtype: object"
      ]
     },
     "execution_count": 92,
     "metadata": {},
     "output_type": "execute_result"
    }
   ],
   "source": [
    "#  Vérifier le type de variables\n",
    "df_reduit.dtypes"
   ]
  },
  {
   "cell_type": "code",
   "execution_count": 93,
   "id": "1d2638c5",
   "metadata": {},
   "outputs": [
    {
     "name": "stdout",
     "output_type": "stream",
     "text": [
      "(34797, 7)\n"
     ]
    }
   ],
   "source": [
    "print(df_reduit.shape)"
   ]
  },
  {
   "cell_type": "code",
   "execution_count": 94,
   "id": "5c17989b",
   "metadata": {},
   "outputs": [
    {
     "name": "stdout",
     "output_type": "stream",
     "text": [
      "<class 'pandas.core.frame.DataFrame'>\n",
      "RangeIndex: 34797 entries, 0 to 34796\n",
      "Data columns (total 7 columns):\n",
      " #   Column                         Non-Null Count  Dtype  \n",
      "---  ------                         --------------  -----  \n",
      " 0   Code Commune                   34797 non-null  object \n",
      " 1   Nom Commune                    34797 non-null  object \n",
      " 2   Département                    34797 non-null  object \n",
      " 3   code_departement               34797 non-null  object \n",
      " 4   Région                         34797 non-null  object \n",
      " 5   Taux de logements sociaux (%)  34797 non-null  float64\n",
      " 6   geom                           34797 non-null  object \n",
      "dtypes: float64(1), object(6)\n",
      "memory usage: 1.9+ MB\n"
     ]
    }
   ],
   "source": [
    "df_reduit.info()"
   ]
  },
  {
   "cell_type": "markdown",
   "id": "c8c5d415",
   "metadata": {},
   "source": [
    "**Avant de sauvegarder le fichier CSV pour des analyses futures**, formater la colonne `code_departement` (code département)  \n",
    "en chaîne de caractères (`str`) avec complétion par zéro à gauche (`zfill(2)`).  \n",
    "Cela garantit l'alignement entre les fichiers lors des jointures.  \n",
    "Par exemple : `1` devient `01`, et les départements d’outre-mer (`974`, `976`, etc.) restent inchangés."
   ]
  },
  {
   "cell_type": "code",
   "execution_count": 95,
   "id": "70cc37c6",
   "metadata": {},
   "outputs": [],
   "source": [
    "# Forcer la colonne 'code département' à deux chiffres (ex : '01', '35', '974') dans le df df_reduit\n",
    "df_reduit = df_reduit.copy()\n",
    "df_reduit['code_departement'] = df_reduit['code_departement'].astype(str).str.zfill(2)"
   ]
  },
  {
   "cell_type": "markdown",
   "id": "4936a1d5",
   "metadata": {},
   "source": [
    "### **Sauvegarde du df_reduit**\n",
    "\n",
    "Le DataFrame final (`df_reduit`) est prêt pour des analyses futures.  \n",
    "Il est sauvegardé sans données aberrantes ni données manquantes, et surtout avec la colonne code_departement en string  \n",
    "pour faire des merges avec les autres fichiers csv. Il s'appelle **logem_soc_2021_projet.csv** :"
   ]
  },
  {
   "cell_type": "code",
   "execution_count": null,
   "id": "a3d9b9f8",
   "metadata": {},
   "outputs": [],
   "source": [
    "# df_reduit.to_csv('logem_soc_2021_projet.csv', index=False)"
   ]
  },
  {
   "cell_type": "markdown",
   "id": "b0c7dd24",
   "metadata": {},
   "source": [
    "Vérification de la taille du fichier csv sauvegardé pour s'assurer qu'il respecte  \n",
    "les limites de dépôt sur GitHub (limite ≈ 100 Mo par fichier)."
   ]
  },
  {
   "cell_type": "code",
   "execution_count": 97,
   "id": "d5873726",
   "metadata": {},
   "outputs": [
    {
     "data": {
      "text/plain": [
       "175.99137592315674"
      ]
     },
     "execution_count": 97,
     "metadata": {},
     "output_type": "execute_result"
    }
   ],
   "source": [
    "import os\n",
    "\n",
    "# Vérifier la taille du fichier sauvegardé (en Mo)\n",
    "os.path.getsize('logem_soc_2021_projet.csv') / 1024**2"
   ]
  },
  {
   "cell_type": "markdown",
   "id": "bffba393",
   "metadata": {},
   "source": [
    "Le fichier `logem_soc_2021_projet.csv` étant trop volumineux pour GitHub (> 100 Mo),  \n",
    "il sera **découpé manuellement via PowerShell** avant de l'exporter sur Github :\n",
    "\n",
    "- `logem_soc_2021_projet_p1.csv`\n",
    "- `logem_soc_2021_projet_p2.csv`"
   ]
  },
  {
   "cell_type": "markdown",
   "id": "40190c17",
   "metadata": {},
   "source": [
    "### **EDA approfondie à partir du fichier nettoyé 'df_reduit'**"
   ]
  },
  {
   "cell_type": "code",
   "execution_count": 98,
   "id": "16f75672",
   "metadata": {},
   "outputs": [
    {
     "data": {
      "text/plain": [
       "0.0     18519\n",
       "2.0      1856\n",
       "3.0      1742\n",
       "1.0      1615\n",
       "4.0      1470\n",
       "        ...  \n",
       "68.0        2\n",
       "71.0        2\n",
       "94.0        1\n",
       "65.0        1\n",
       "86.0        1\n",
       "Name: Taux de logements sociaux (%), Length: 69, dtype: int64"
      ]
     },
     "execution_count": 98,
     "metadata": {},
     "output_type": "execute_result"
    }
   ],
   "source": [
    "df_reduit['Taux de logements sociaux (%)'].value_counts()"
   ]
  },
  {
   "cell_type": "code",
   "execution_count": 99,
   "id": "469714af",
   "metadata": {},
   "outputs": [
    {
     "data": {
      "text/plain": [
       "69"
      ]
     },
     "execution_count": 99,
     "metadata": {},
     "output_type": "execute_result"
    }
   ],
   "source": [
    "# Combien de valeurs différentes de taux de logement sociaux existent ?\n",
    "df_reduit['Taux de logements sociaux (%)'].nunique()"
   ]
  },
  {
   "cell_type": "code",
   "execution_count": 100,
   "id": "1d547144",
   "metadata": {},
   "outputs": [
    {
     "data": {
      "text/plain": [
       "count    34797.000000\n",
       "mean         3.984596\n",
       "std          7.315995\n",
       "min          0.000000\n",
       "25%          0.000000\n",
       "50%          0.000000\n",
       "75%          5.000000\n",
       "max         94.000000\n",
       "Name: Taux de logements sociaux (%), dtype: float64"
      ]
     },
     "execution_count": 100,
     "metadata": {},
     "output_type": "execute_result"
    }
   ],
   "source": [
    "# Statistiques de base\n",
    "df_reduit['Taux de logements sociaux (%)'].describe()"
   ]
  },
  {
   "cell_type": "code",
   "execution_count": 101,
   "id": "2fa1ff5a",
   "metadata": {},
   "outputs": [
    {
     "data": {
      "image/png": "[encoded data removed]",
      "text/plain": [
       "<Figure size 800x500 with 1 Axes>"
      ]
     },
     "metadata": {},
     "output_type": "display_data"
    }
   ],
   "source": [
    "# Distribution visuelle simple du taux de logement sociaux\n",
    "plt.figure(figsize=(8,5))\n",
    "df_reduit['Taux de logements sociaux (%)'].hist(bins=100)\n",
    "plt.xlabel('Taux de logements sociaux (%)')\n",
    "plt.ylabel('Nombre de communes')\n",
    "plt.title('Distribution des taux de logements sociaux')\n",
    "plt.grid(True)\n",
    "plt.show()"
   ]
  },
  {
   "cell_type": "code",
   "execution_count": 102,
   "id": "367fa0bf",
   "metadata": {},
   "outputs": [
    {
     "name": "stdout",
     "output_type": "stream",
     "text": [
      "Communes avec 0% de logements sociaux : 18519 sur 34797 (53.22%)\n"
     ]
    }
   ],
   "source": [
    "# Vérifier combien de communes en France sont à 0% de logements sociaux\n",
    "nb_communes_total = df_reduit.shape[0]\n",
    "nb_sans_logement_social = (df_reduit['Taux de logements sociaux (%)'] == 0).sum()\n",
    "pourcentage = round((nb_sans_logement_social / nb_communes_total) * 100, 2)\n",
    "\n",
    "print(f\"Communes avec 0% de logements sociaux : {nb_sans_logement_social} sur {nb_communes_total} ({pourcentage}%)\")"
   ]
  },
  {
   "cell_type": "code",
   "execution_count": 103,
   "id": "e26f8941",
   "metadata": {},
   "outputs": [],
   "source": [
    "# Cela montre que :\n",
    "# - Sur la totalité de communes analysées (34 797) 18 519 n'offrent aucun logement social, soit 53,22% des communes.\n",
    "# - La loi SRU impose des quotas de logements sociaux uniquement aux communes de plus de 3 500 habitants (ou 1 500 en Île-de-France)."
   ]
  },
  {
   "cell_type": "code",
   "execution_count": 104,
   "id": "22fc8553",
   "metadata": {},
   "outputs": [
    {
     "data": {
      "text/html": [
       "<div>\n",
       "<style scoped>\n",
       "    .dataframe tbody tr th:only-of-type {\n",
       "        vertical-align: middle;\n",
       "    }\n",
       "\n",
       "    .dataframe tbody tr th {\n",
       "        vertical-align: top;\n",
       "    }\n",
       "\n",
       "    .dataframe thead th {\n",
       "        text-align: right;\n",
       "    }\n",
       "</style>\n",
       "<table border=\"1\" class=\"dataframe\">\n",
       "  <thead>\n",
       "    <tr style=\"text-align: right;\">\n",
       "      <th></th>\n",
       "      <th>Code Commune</th>\n",
       "      <th>Nom Commune</th>\n",
       "      <th>Taux de logements sociaux (%)</th>\n",
       "    </tr>\n",
       "  </thead>\n",
       "  <tbody>\n",
       "    <tr>\n",
       "      <th>8695</th>\n",
       "      <td>78615</td>\n",
       "      <td>Thiverval-Grignon</td>\n",
       "      <td>94.0</td>\n",
       "    </tr>\n",
       "    <tr>\n",
       "      <th>30531</th>\n",
       "      <td>57058</td>\n",
       "      <td>Behren-lès-Forbach</td>\n",
       "      <td>86.0</td>\n",
       "    </tr>\n",
       "    <tr>\n",
       "      <th>2729</th>\n",
       "      <td>57207</td>\n",
       "      <td>Farébersviller</td>\n",
       "      <td>71.0</td>\n",
       "    </tr>\n",
       "    <tr>\n",
       "      <th>32782</th>\n",
       "      <td>27701</td>\n",
       "      <td>Val-de-Reuil</td>\n",
       "      <td>71.0</td>\n",
       "    </tr>\n",
       "    <tr>\n",
       "      <th>5234</th>\n",
       "      <td>93030</td>\n",
       "      <td>Dugny</td>\n",
       "      <td>69.0</td>\n",
       "    </tr>\n",
       "  </tbody>\n",
       "</table>\n",
       "</div>"
      ],
      "text/plain": [
       "      Code Commune         Nom Commune  Taux de logements sociaux (%)\n",
       "8695         78615   Thiverval-Grignon                           94.0\n",
       "30531        57058  Behren-lès-Forbach                           86.0\n",
       "2729         57207      Farébersviller                           71.0\n",
       "32782        27701        Val-de-Reuil                           71.0\n",
       "5234         93030               Dugny                           69.0"
      ]
     },
     "execution_count": 104,
     "metadata": {},
     "output_type": "execute_result"
    }
   ],
   "source": [
    "# identifier les communes avec le plus fort taux de logement sociaux\n",
    "cols = ['Code Commune', 'Nom Commune', 'Taux de logements sociaux (%)']\n",
    "df_reduit.sort_values(by='Taux de logements sociaux (%)', ascending=False)[cols].head(5)"
   ]
  },
  {
   "cell_type": "code",
   "execution_count": 105,
   "id": "37793d82",
   "metadata": {},
   "outputs": [
    {
     "data": {
      "text/plain": [
       "Département\n",
       "Seine-Saint-Denis    35.225000\n",
       "Hauts-de-Seine       27.861111\n",
       "Val-de-Marne         27.723404\n",
       "Paris                21.000000\n",
       "Essonne              10.587629\n",
       "Nord                 10.527778\n",
       "Val-d'Oise            9.923913\n",
       "Bouches-du-Rhône      9.644068\n",
       "Maine-et-Loire        9.523256\n",
       "Rhône                 9.468165\n",
       "Name: Taux de logements sociaux (%), dtype: float64"
      ]
     },
     "execution_count": 105,
     "metadata": {},
     "output_type": "execute_result"
    }
   ],
   "source": [
    "# Calculler la moyenne du taux de logements sociaux par département\n",
    "df_reduit.groupby('Département')['Taux de logements sociaux (%)'].mean().sort_values(ascending=False).head(10)"
   ]
  },
  {
   "cell_type": "code",
   "execution_count": 106,
   "id": "b1248a6d",
   "metadata": {},
   "outputs": [
    {
     "data": {
      "text/plain": [
       "Région\n",
       "ÎLE-DE-FRANCE                 9.887224\n",
       "BRETAGNE                      5.488353\n",
       "AUVERGNE-RHÔNE-ALPES          5.340864\n",
       "PAYS DE LA LOIRE              5.339853\n",
       "HAUTS-DE-FRANCE               5.261685\n",
       "CENTRE-VAL DE LOIRE           4.941946\n",
       "PROVENCE-ALPES-CÔTE D'AZUR    4.672669\n",
       "NORMANDIE                     4.526792\n",
       "GRAND EST                     2.955265\n",
       "NOUVELLE-AQUITAINE            2.556072\n",
       "Name: Taux de logements sociaux (%), dtype: float64"
      ]
     },
     "execution_count": 106,
     "metadata": {},
     "output_type": "execute_result"
    }
   ],
   "source": [
    "# Calculler la moyenne du taux de logements sociaux par région\n",
    "df_reduit.groupby('Région')['Taux de logements sociaux (%)'].mean().sort_values(ascending=False).head(10)"
   ]
  }
 ],
 "metadata": {
  "kernelspec": {
   "display_name": "base",
   "language": "python",
   "name": "python3"
  },
  "language_info": {
   "codemirror_mode": {
    "name": "ipython",
    "version": 3
   },
   "file_extension": ".py",
   "mimetype": "text/x-python",
   "name": "python",
   "nbconvert_exporter": "python",
   "pygments_lexer": "ipython3",
   "version": "3.11.4"
  }
 },
 "nbformat": 4,
 "nbformat_minor": 5
}
